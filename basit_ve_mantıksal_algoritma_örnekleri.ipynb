{
 "cells": [
  {
   "cell_type": "markdown",
   "id": "802d994b",
   "metadata": {},
   "source": [
    "# Python'da Basit Algoritmalar\n",
    "\n",
    "## BPA101 Bilg. Programlamaya Giriş ve Alg. /// 9. Hafta "
   ]
  },
  {
   "cell_type": "markdown",
   "id": "0aee8506",
   "metadata": {},
   "source": [
    "### Soru 1: \n",
    "\n",
    "#### Klavyeden girilen iki sayıyı toplayan ve sonucu ekranda gösteren python kodunu yazınız.\n"
   ]
  },
  {
   "cell_type": "code",
   "execution_count": null,
   "id": "e23822a2",
   "metadata": {},
   "outputs": [],
   "source": [
    "sayi1 = int(input(\"kesinlikle TAM SAYI giriniz  \"))\n",
    "sayi2 = float(input(\"İster tam sayı ister ondalıklı sayı girebilirsiniz : \"))\n",
    "toplam = sayi1 + sayi2\n",
    "print(\"Sayıların Toplamı :  \",toplam)"
   ]
  },
  {
   "cell_type": "markdown",
   "id": "4649cb28",
   "metadata": {},
   "source": [
    "### Soru 2: \n",
    "\n",
    "#### Kullanıcıdan aldığınız 3 tane sayıyı çarparak ekrana yazdırın. Ekrana yazdırma işlemini *format* metoduyla yapmaya çalışın."
   ]
  },
  {
   "cell_type": "code",
   "execution_count": null,
   "id": "8184b109",
   "metadata": {},
   "outputs": [],
   "source": [
    "\n",
    "a = float(input(\"a : \"))\n",
    "b = float(input(\"b : \"))\n",
    "c = float(input(\"c : \"))\n",
    "\n",
    "çarpım = round(a * b * c, 3)\n",
    "\n",
    "print(\" {} x {} x {} = {} dir\".format(a,b,c,çarpım))"
   ]
  },
  {
   "cell_type": "markdown",
   "id": "526fe256",
   "metadata": {},
   "source": [
    "### Soru 3: \n",
    "#### Kullanıcıdan aldığınız boy ve kilo değerlerine göre kullanıcının beden kitle indeksini bulan fonsiyonu yazınız.\n",
    "\n",
    "#### Beden Kitle İndeksi : Kilo / Boy (m) ^ 2"
   ]
  },
  {
   "cell_type": "code",
   "execution_count": null,
   "id": "0f7da32b",
   "metadata": {},
   "outputs": [],
   "source": [
    "kilo = float(input(\"kilo bilgisi giriniz : \"))\n",
    "boy = float(input(\"boy bilgisi giriniz (santimetre cinsinden) : \"))\n",
    "vki = round(kilo /(boy/100)**2,2)\n",
    "\n",
    "print(\"girilen boy değeri olan {} santimetre ile girilen kilo değeri olan {} kilogramının oranı: {}\".format(boy, kilo, vki))"
   ]
  },
  {
   "cell_type": "code",
   "execution_count": null,
   "id": "0f2e6564",
   "metadata": {},
   "outputs": [],
   "source": [
    "### fonksiyon tanımlama\n",
    "\n",
    "def boy_kilo_indeks(boy,kilo):\n",
    "    return kilo / boy**2\n",
    "    \n",
    "    \n"
   ]
  },
  {
   "cell_type": "code",
   "execution_count": null,
   "id": "0ede1c73",
   "metadata": {},
   "outputs": [],
   "source": [
    "boy_kilo_indeks(1.90,80)"
   ]
  },
  {
   "cell_type": "markdown",
   "id": "2303bca1",
   "metadata": {},
   "source": [
    "### Soru 3: \n",
    "\n",
    "#### Kullanıcıdan ad,soyad ve numara bilgisini alarak bunları alt alta ekrana yazdırın."
   ]
  },
  {
   "cell_type": "code",
   "execution_count": null,
   "id": "5d80bbff",
   "metadata": {},
   "outputs": [],
   "source": [
    "ad = input(\"Ad:\")\n",
    "soyad = input(\"Soyad:\")\n",
    "numara = input(\"Numara:\")\n",
    "\n",
    "print(\"\\n Kullanıcı Bilgileri: \\n\")\n",
    "\n",
    "print(\"Kullanıcı Bilgileri: \\nAd: {} \\nSoyad: {} \\nNumara: {}\".format(ad,soyad,numara))\n"
   ]
  },
  {
   "cell_type": "markdown",
   "id": "1485432e",
   "metadata": {},
   "source": [
    "### Soru 4: \n",
    "#### Kullanıcıdan iki tane sayı isteyin ve bu sayıların değerlerini birbirleriyle değiştirin."
   ]
  },
  {
   "cell_type": "code",
   "execution_count": null,
   "id": "31556dc9",
   "metadata": {},
   "outputs": [],
   "source": [
    "a = input(\"a:\")\n",
    "b = input(\"b:\")\n",
    "\n",
    "print(\"Değiştirilmeden Önce Değerler \\n a: {} b: {}\\n\".format(a,b))\n",
    "\n",
    "a,b = b,a\n",
    "\n",
    "print(\"Değiştirildikten Sonraki Değerler \\n a: {} b: {}\\n\".format(a,b))\n"
   ]
  },
  {
   "cell_type": "code",
   "execution_count": null,
   "id": "929e8d9d",
   "metadata": {},
   "outputs": [],
   "source": [
    "a, b, c = \"a\", \"b\",\"c\"\n",
    "print(a,b,c)"
   ]
  },
  {
   "cell_type": "code",
   "execution_count": null,
   "id": "ac9968c4",
   "metadata": {},
   "outputs": [],
   "source": [
    "a , b, c = c, a, b\n",
    "print(a,b,c)"
   ]
  },
  {
   "cell_type": "markdown",
   "id": "b0e111b3",
   "metadata": {},
   "source": [
    "### Soru 5: \n",
    "\n",
    "#### Kullanıcıdan bir dik üçgenin dik olan iki kenarını(a,b) alın ve hipotenüs uzunluğunu bulmaya çalışın.\n",
    "\n",
    "##### Hipotenüs Formülü: a^2 + b^2 = c^2"
   ]
  },
  {
   "cell_type": "code",
   "execution_count": null,
   "id": "07e78517",
   "metadata": {},
   "outputs": [],
   "source": [
    "a = int(input(\"a:\"))\n",
    "\n",
    "b = int(input(\"b:\"))\n",
    "\n",
    "c =  (a ** 2 + b ** 2) ** 0.5\n",
    "\n",
    "print(\"Hipotenüs: \",c)"
   ]
  },
  {
   "cell_type": "markdown",
   "id": "7da80343",
   "metadata": {},
   "source": [
    "### Soru 6\n",
    "\n",
    "#### Kenarları Girilen Dikdörtgenin Alanı ve Çevresini Bulun"
   ]
  },
  {
   "cell_type": "code",
   "execution_count": null,
   "id": "981b00d7",
   "metadata": {},
   "outputs": [],
   "source": [
    "kisa=input('Kısa Kenar : ')\n",
    "uzun=input('Uzun Kenar : ')\n",
    "\n",
    "alan=int(kisa)*int(uzun)\n",
    "\n",
    "cevre=2*(int(kisa)+int(uzun))\n",
    "\n",
    "print(\"Alan : {}\".format(alan))\n",
    "\n",
    "print(\"Çevre : {}\".format(cevre))"
   ]
  },
  {
   "cell_type": "markdown",
   "id": "c07b347a",
   "metadata": {},
   "source": [
    "## Karar Yapıları // 10. Hafta"
   ]
  },
  {
   "cell_type": "markdown",
   "id": "13e2859c",
   "metadata": {},
   "source": [
    "### Soru 6:\n",
    "\n",
    "#### Kullanıcıdan alınan boy ve kilo değerlerine göre beden kitle indeksini hesaplayın ve şu kurallara göre ekrana şu yazıları yazdırın.\n",
    "\n",
    "##### Beden Kitle İndeksi: Kilo / Boy(m)**2\n",
    "\n",
    "    BKİ 18.5'un altındaysa -------> Zayıf\n",
    "    BKİ 18.5 ile 25 arasındaysa ------> Normal\n",
    "    BKİ 25 ile 30 arasındaysa --------> Fazla Kilolu\n",
    "    BKİ 30'un üstündeyse -------------> Obez"
   ]
  },
  {
   "cell_type": "code",
   "execution_count": null,
   "id": "19c3e85b",
   "metadata": {},
   "outputs": [],
   "source": [
    "def bki_sonucu(boy, kilo):\n",
    "    \n",
    "    indeks = kilo / (boy/100)**2\n",
    "    \n",
    "    if indeks <= 18.5:\n",
    "        print(\"BK indeksiniz {}, sonuç 'zayıf'\".format(indeks))\n",
    "    elif indeks > 18.5 and indeks <= 25:\n",
    "        print(\"BK indeksiniz {}, sonuç 'Normal'\".format(indeks))\n",
    "    elif indeks > 26 and indeks < 30:\n",
    "        print(\"BK indeksiniz {}, sonuç 'Fazla Kilolu'\".format(indeks))\n",
    "    else:\n",
    "        print(\"BK indeksiniz {}, sonuç 'Obez'\".format(indeks))"
   ]
  },
  {
   "cell_type": "code",
   "execution_count": null,
   "id": "ceb96f07",
   "metadata": {},
   "outputs": [],
   "source": [
    "bki_sonucu(187,90)"
   ]
  },
  {
   "cell_type": "markdown",
   "id": "52351ae7",
   "metadata": {},
   "source": [
    "### Soru 7:\n",
    "\n",
    "#### Kullanıcının girdiği vize1,vize2,final notlarına notlarına göre harf notunu hesaplayın.\n",
    "\n",
    "    Vize1 toplam notun %30'una etki edecek.\n",
    "\n",
    "    Vize2 toplam notun %30'una etki edecek.\n",
    "\n",
    "    Final toplam notun %40'ına etki edecek.\n",
    "\n",
    "\n",
    "    Toplam Not >=  90 -----> AA\n",
    "\n",
    "    Toplam Not >=  85 -----> BA\n",
    "\n",
    "    Toplam Not >=  80 -----> BB\n",
    "\n",
    "    Toplam Not >=  75 -----> CB\n",
    "\n",
    "    Toplam Not >=  70 -----> CC\n",
    "\n",
    "    Toplam Not >=  65 -----> DC\n",
    "\n",
    "    Toplam Not >=  60 -----> DD\n",
    "\n",
    "    Toplam Not >=  55 -----> FD\n",
    "\n",
    "    Toplam Not <  55 -----> FF"
   ]
  },
  {
   "cell_type": "code",
   "execution_count": 3,
   "id": "0271336b",
   "metadata": {},
   "outputs": [],
   "source": [
    "import numpy as np"
   ]
  },
  {
   "cell_type": "code",
   "execution_count": null,
   "id": "0614a45a",
   "metadata": {},
   "outputs": [],
   "source": [
    "\n",
    "def not_hesapla():\n",
    "    \n",
    "    puan_skalasi = np.arange(0,101,0.01)\n",
    "     \n",
    "    while True:\n",
    "                     \n",
    "        vize1 = int(input(\"Vize1:\"))\n",
    "        \n",
    "        if vize1 not in puan_skalasi:\n",
    "            print(\"0 ile 100 arasında bir sayı girin \\n\")\n",
    "            vize1 = int(input(\"Vize1 notunu tekrar giriniz: \"))\n",
    "                \n",
    "            if vize1 not in puan_skalasi:\n",
    "                print(\"İkinci kez hatalı girdiniz. İşlem sonlandırıldı! \\n\")\n",
    "            break\n",
    "        else:\n",
    "            next\n",
    "       \n",
    "        vize2 = int(input(\"Vize2:\"))\n",
    "        \n",
    "        if vize2 not in puan_skalasi:\n",
    "            print(\"0 ile 100 arasında bir sayı girin \\n\")\n",
    "            vize2 = int(input(\"Vize2 notunu tekrar giriniz: \"))\n",
    "           \n",
    "            if vize2 not in puan_skalasi:\n",
    "                print(\"İkinci kez hatalı girdiniz. İşlem sonlandırıldı! \\n\")\n",
    "            break\n",
    "        else:\n",
    "            next\n",
    "        \n",
    "        final = int(input(\"Final:\"))\n",
    "        \n",
    "        if final not in puan_skalasi:\n",
    "            print(\"0 ile 100 arasında bir sayı girin \\n\")\n",
    "            final = int(input(\"Final notunu tekrar giriniz: \"))\n",
    "            \n",
    "            if final not in puan_skalasi:\n",
    "                print(\"İkinci kez hatalı girdiniz. İşlem sonlandırıldı! \\n\")\n",
    "            break\n",
    "        else:\n",
    "            next\n",
    "           \n",
    "        genel_not =  round(vize1 * 3/10 + vize2 * 3/10 + final * 4/10,3)\n",
    "        print(\"Ağırlıklı not ortalaması {} \\n\".format(genel_not))\n",
    "\n",
    "        if (genel_not >= 90):\n",
    "            print(\"AA\")\n",
    "        elif (genel_not >= 85):\n",
    "            print(\"BA\")\n",
    "        elif (genel_not >= 80):\n",
    "            print(\"BB\")\n",
    "        elif (genel_not >= 75):\n",
    "            print(\"CB\")\n",
    "        elif (genel_not >= 70):\n",
    "            print(\"CC\")\n",
    "        elif (genel_not >= 65):\n",
    "            print(\"DC\")\n",
    "        elif (genel_not >= 60):\n",
    "            print(\"DD\")\n",
    "        elif (genel_not >= 55):\n",
    "            print(\"FD\")\n",
    "        else:\n",
    "            print(\"FF\")\n",
    "        \n",
    "        \n",
    "        \n",
    "        break"
   ]
  },
  {
   "cell_type": "code",
   "execution_count": null,
   "id": "6e9758a4",
   "metadata": {},
   "outputs": [],
   "source": [
    "not_hesapla()"
   ]
  },
  {
   "cell_type": "markdown",
   "id": "df1a60c2",
   "metadata": {},
   "source": [
    "#### Soru 8:\n",
    "\n",
    "##### Bir kargo şirketi;\n",
    "    2 kilograma kadar olan gönderilerin kilogramını 12 Tl'ye,\n",
    "    2 ve 6 kg arasını 10.5 TL'ye,\n",
    "    6 ve 10 kg arasını 9 TL 'ye,\n",
    "    10 ve üzerini ise 7 TL'ye\n",
    "##### taşımaktadır.\n",
    "\n",
    "##### Ayrıca her gönderi için toplam ücret üzerinden %25'lik bir indirim yapmaktadır.\n",
    "\n",
    "##### Tüm yük bilgilerini, indirimsiz ve indirimli fiyatın çıktısını veren fonksiyonu tanımlayınız. .format(), round() gibi fonksiyonları da kullanmaya özen gösteriniz. \n",
    "    \n",
    "    "
   ]
  },
  {
   "cell_type": "code",
   "execution_count": 50,
   "id": "6f8e3bfd",
   "metadata": {},
   "outputs": [],
   "source": [
    "def yuk_fiyat_hesapla():\n",
    "    \n",
    "    yuk_kilo = float(input(\"Yük kg giriniz: \"))\n",
    "    indirim_katsayisi = 0.25\n",
    "    if yuk_kilo > 10:\n",
    "        fiyat = yuk_kilo * 7\n",
    "        ind_fiyat = indirim_katsayisi * fiyat\n",
    "        print(\"{} kg'lik yükünüz için; \\nToplam ücret: {} \\nİndirim oranı: {}  \\nÖdencek İndirimli Ücret: {}\". format(yuk_kilo, fiyat,indirim_katsayisi, ind_fiyat))\n",
    "    elif yuk_kilo < 10 and yuk_kilo > 6:\n",
    "        fiyat = yuk_kilo * 9\n",
    "        ind_fiyat = indirim_katsayisi * fiyat\n",
    "        print(\"{} kg'lik yükünüz için; \\nToplam ücret: {} \\nİndirim oranı: {} \\nÖdencek İndirimli Ücret: {}\". format(yuk_kilo, fiyat,indirim_katsayisi, ind_fiyat))\n",
    "    elif yuk_kilo < 5.99 and yuk_kilo > 2:\n",
    "        fiyat = yuk_kilo * 10.5\n",
    "        ind_fiyat = indirim_katsayisi * fiyat\n",
    "        print(\"{} kg'lik yükünüz için; \\nToplam ücret: {} \\nİndirim oranı: {} \\nÖdencek İndirimli Ücret: {}\". format(yuk_kilo, fiyat,indirim_katsayisi, ind_fiyat))\n",
    "    else:\n",
    "        fiyat = yuk_kilo * 12\n",
    "        ind_fiyat = indirim_katsayisi * fiyat\n",
    "        print(\"{} kg'lik yükünüz için; \\nToplam ücret: {} \\nİndirim oranı: {} \\nÖdencek İndirimli Ücret: {}\". format(yuk_kilo, fiyat,indirim_katsayisi, ind_fiyat))\n",
    "    "
   ]
  },
  {
   "cell_type": "code",
   "execution_count": 51,
   "id": "719a8a15",
   "metadata": {},
   "outputs": [
    {
     "name": "stdout",
     "output_type": "stream",
     "text": [
      "Yük kg giriniz: 25\n",
      "25.0 kg'lik yükünüz için; \n",
      "Toplam ücret: 175.0 \n",
      "İndirim oranı: 0.25  \n",
      "Ödencek İndirimli Ücret: 43.75\n"
     ]
    }
   ],
   "source": [
    "yuk_fiyat_hesapla()"
   ]
  },
  {
   "cell_type": "markdown",
   "id": "46358b2c",
   "metadata": {},
   "source": [
    "#### Soru 9:\n",
    "##### Zar atma oyunu tasarlayın ve fonskiyonunu tanımlayın:\n",
    "      oyun içinde kural opsiyonu bulunsun: tekli ve ya çifli gibi\n",
    "      Daha büyük zar atan kazanır.\n",
    "      \n",
    "##### İpucu: İç içe karar yapılarından faydalanın!\n",
    "\n",
    "##### İpucu 2: Rastgele sayı üretebilemek için numpy kütüphanesinin random.randint() metodundan faydalanın"
   ]
  },
  {
   "cell_type": "code",
   "execution_count": 48,
   "id": "d4c35ff3",
   "metadata": {},
   "outputs": [],
   "source": [
    "def barbut():\n",
    "    \n",
    "    kural = input()\n",
    "    if kural == \"tekli\":\n",
    "        birinci_zar = np.random.randint(1,6,1)\n",
    "        ikinci_zar = np.random.randint(1,6,1)\n",
    "        \n",
    "        birinci_oyuncu = birinci_zar\n",
    "        ikinci_oyuncu = ikinci_zar\n",
    "        \n",
    "        print(\"Oyuncu birin zarları toplamı: {} [{}] \\nOyuncu ikinin zarları toplamı : {} [{}]\".format(birinci_oyuncu,\n",
    "                                                                                                    birinci_zar,\n",
    "                                                                                                    ikinci_oyuncu,\n",
    "                                                                                                    ikinci_zar\n",
    "                                                                                                    ))\n",
    "        \n",
    "        if birinci_oyuncu < ikinci_oyuncu:\n",
    "            print(ikinci_oyuncu, \" ile İkinci oyuncu kazardı\")\n",
    "        elif birinci_oyuncu > ikinci_oyuncu:\n",
    "            print(birinci_oyuncu, \" ile Birinci oyuncu kazandı\")\n",
    "        else:\n",
    "            print(\"Berabere\")\n",
    "            \n",
    "    elif kural == \"çifli\":\n",
    "        \n",
    "        ucuncu_zar = np.random.randint(1,7,1)\n",
    "        dorduncu_zar = np.random.randint(1,7,1)\n",
    "        besinci_zar = np.random.randint(1,7,1)\n",
    "        altinci_zar = np.random.randint(1,7,1)\n",
    "\n",
    "        birinci_oyuncu = ucuncu_zar + dorduncu_zar\n",
    "        ikinci_oyuncu = besinci_zar + altinci_zar\n",
    "\n",
    "        print(\"Oyuncu birin zarları toplamı: {} [{},{}] \\nOyuncu ikinin zarları toplamı : {} [{},{}]\".format(birinci_oyuncu,\n",
    "                                                                                                    ucuncu_zar,\n",
    "                                                                                                    dorduncu_zar,\n",
    "                                                                                                    ikinci_oyuncu,\n",
    "                                                                                                    besinci_zar,\n",
    "                                                                                                    altinci_zar))\n",
    "        if birinci_oyuncu < ikinci_oyuncu:\n",
    "            print(ikinci_oyuncu, \" ile İkinci oyuncu kazardı\")\n",
    "        elif birinci_oyuncu > ikinci_oyuncu:\n",
    "            print(birinci_oyuncu, \" ile Birinci oyuncu kazandı\")\n",
    "        else:\n",
    "            print(\"Berabere\")\n",
    "    print(\"Oyun türü: \" ,kural)"
   ]
  },
  {
   "cell_type": "code",
   "execution_count": 49,
   "id": "a9c56e7a",
   "metadata": {},
   "outputs": [
    {
     "name": "stdout",
     "output_type": "stream",
     "text": [
      "çifli\n",
      "Oyuncu birin zarları toplamı: [7] [[6],[1]] \n",
      "Oyuncu ikinin zarları toplamı : [8] [[3],[5]]\n",
      "[8]  ile İkinci oyuncu kazardı\n",
      "Oyun türü:  çifli\n"
     ]
    }
   ],
   "source": [
    "barbut()"
   ]
  },
  {
   "cell_type": "markdown",
   "id": "e51f3494",
   "metadata": {},
   "source": [
    "#### Soru 10:\n",
    "\n",
    "###### Soru 9'daki mantığı uygulayarak kendi \"taş-kağıt-makas\" oyununuzu tasarlayın!"
   ]
  }
 ],
 "metadata": {
  "kernelspec": {
   "display_name": "Python 3 (ipykernel)",
   "language": "python",
   "name": "python3"
  },
  "language_info": {
   "codemirror_mode": {
    "name": "ipython",
    "version": 3
   },
   "file_extension": ".py",
   "mimetype": "text/x-python",
   "name": "python",
   "nbconvert_exporter": "python",
   "pygments_lexer": "ipython3",
   "version": "3.8.11"
  }
 },
 "nbformat": 4,
 "nbformat_minor": 5
}
