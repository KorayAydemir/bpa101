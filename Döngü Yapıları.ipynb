{
 "cells": [
  {
   "cell_type": "markdown",
   "metadata": {},
   "source": [
    "# Döngü Yapıları\n",
    "\n",
    "Belli koşullarda programımızın **sürekli devam ettirmesini** ve işlemlerini **tekrar etmesini** isteriz. Bunları yapmamızı sağlayan yapılara **döngü** denir. \n",
    "\n",
    "Döngüler bütün programlama dillerinde bulunan ve belli koşullarda işlemlerini sürekli tekrar eden yapılardır. \n",
    "\n",
    "### Gerçek Dünya Örnekleri\n",
    "Örneğin , siz ATM'ye gidip kartınızı yerleştiriyorsunuz ve program başlıyor. Para Çekme, Para Yatırma , Vergileri Ödeme gibi işlemleri tekrar tekrar gerçekleştiriyorsunuz. Programın sona ermesi ise Kart İade seçeneği ile gerçekleşiyor. Yani siz Kart İade tuşuna basmadığınız sürece ATM makinesi çalışmaya devam ediyor. Bu bir döngü yapısıdır.\n",
    "\n",
    "Örneğin siz bir siteye login olma işlemi gerçekleştiriyorsunuz. Biz kullanıcı adı ve parolayı yanlış girdiğimiz sürece program sürekli bize kullanıcı adı ve parola soruyor. Programın sona ermesi ise biz kullanıcı adı ve parolayı doğru girdiğimizde gerçekleşiyor. Yine burada da siz döngü yapılarının kullanıldığını düşünebilirsiniz."
   ]
  },
  {
   "cell_type": "markdown",
   "metadata": {},
   "source": [
    "# While Döngüleri\n",
    "\n",
    "while döngüleri belli bir koşul sağlandığı sürece kod bloğundaki işlemleri gerçekleştirmeye devam eder.\n",
    "\n",
    "*while* döngülerinin sona ermesi için koşul durumunun bir süre sonra **False** olması gereklidir.\n",
    "Yapısı;\n",
    "\n",
    "    while (koşul):\n",
    "        İşlem1\n",
    "        İşlem2\n",
    "        İşlem3\n",
    "        //\n",
    "        //\n",
    "        .\n",
    "        .\n",
    "        .\n",
    "        .\n"
   ]
  },
  {
   "cell_type": "code",
   "execution_count": null,
   "metadata": {},
   "outputs": [],
   "source": [
    "# Döngüde i değerlerini ekrana yazdırma\n",
    "\n",
    "i = 0 \n",
    "\n",
    "while (i < 10):\n",
    "    print(\"i'nin\",i+1 ,\". değeri: {}\".format(i,i))\n",
    "    i = i + 1 # Koşulun bir süre sonra False olması için gerekli - Unutma"
   ]
  },
  {
   "cell_type": "code",
   "execution_count": null,
   "metadata": {
    "scrolled": true
   },
   "outputs": [],
   "source": [
    "i = 0 \n",
    "\n",
    "while (i < 20):\n",
    "    print(\"i'nin değeri\",i)\n",
    "    i += 2"
   ]
  },
  {
   "cell_type": "code",
   "execution_count": null,
   "metadata": {},
   "outputs": [],
   "source": [
    "# Ekrana 40 defa \"BPA101\" yazdıralım.\n",
    "i = 0\n",
    "\n",
    "while (i < 40):\n",
    "    print(\"BPA101\")\n",
    "    i +=1"
   ]
  },
  {
   "cell_type": "code",
   "execution_count": null,
   "metadata": {},
   "outputs": [],
   "source": [
    "# Liste üzerinde indeks ile gezinme\n",
    "liste = [1,2,3,4,5]\n",
    "\n",
    "a = 0 \n",
    "\n",
    "while a < len(liste):\n",
    "    print(\"Indeks:\",a,\"Eleman:\",liste[a])\n",
    "    a +=1"
   ]
  },
  {
   "cell_type": "code",
   "execution_count": null,
   "metadata": {},
   "outputs": [],
   "source": [
    "# ÇALIŞTIRMADAN CEVAPLA- Bu koddaki eksik nedir? \n",
    "i = 0 \n",
    "while (i < 10):\n",
    "    print(i)"
   ]
  },
  {
   "cell_type": "code",
   "execution_count": null,
   "metadata": {},
   "outputs": [],
   "source": [
    "# i değişkenini artırma işlemi yapmadığımız için i değişkeninin değeri sürekli 0 kalıyor \n",
    "# ve döngü koşulu sürekli True olduğundan sonsuz bir döngü ortaya çıkıyor."
   ]
  },
  {
   "cell_type": "code",
   "execution_count": null,
   "metadata": {},
   "outputs": [],
   "source": [
    "print(*range(0,20))\n",
    "\n",
    "# 0'dan 20' a kadar (dahil değil) sayı dizisi oluşturur. \n",
    "\n",
    "# Dizi içindekileri yazdırmak için başına * konmalı"
   ]
  },
  {
   "cell_type": "code",
   "execution_count": null,
   "metadata": {},
   "outputs": [],
   "source": [
    "liste = list(range(0,20)) # list fonksiyonuyla listeye dönüştürme."
   ]
  },
  {
   "cell_type": "code",
   "execution_count": null,
   "metadata": {},
   "outputs": [],
   "source": [
    "print(*range(5,20,2)) # 5'ten 20'ye kadar olan sayıları 2 atlayarak oluşturur."
   ]
  },
  {
   "cell_type": "code",
   "execution_count": null,
   "metadata": {},
   "outputs": [],
   "source": [
    "print(*range(20,0,-1)) # 20'den geri gelen sayıları oluşturur."
   ]
  },
  {
   "cell_type": "code",
   "execution_count": null,
   "metadata": {},
   "outputs": [],
   "source": [
    "for sayı in range(0,10):\n",
    "    print(sayı)"
   ]
  },
  {
   "cell_type": "code",
   "execution_count": null,
   "metadata": {},
   "outputs": [],
   "source": [
    "for sayi in range(1,20):\n",
    "    while sayi < 10:\n",
    "        print(\"-\"*sayi)\n",
    "        sayi=sayi + 1\n",
    "    print(\"*\" * sayi)"
   ]
  },
  {
   "cell_type": "markdown",
   "metadata": {},
   "source": [
    "### BREAK ve CONTINUE"
   ]
  },
  {
   "cell_type": "markdown",
   "metadata": {},
   "source": [
    "**Break** ifadesi döngülerde programcılar tarafından en çok kullanılan ifadedir.\n",
    "\n",
    "        Döngü herhangi bir yerde ve herhangi bir zamanda break ifadesiyle karşılaştığı zaman\n",
    "        çalışmasını bir anda durdurur. Böylelikle döngü hiçbir koşula bağlı kalmadan sonlanmış olur.\n",
    "        \n",
    "**NOT:** break ifadesi sadece ve sadece içindeki bulunduğu döngüyü sonlandırır. Eğer iç içe döngüler bulunuyorsa ve en içteki döngüde break kullanılmışsa sadece içteki döngü sona erer."
   ]
  },
  {
   "cell_type": "code",
   "execution_count": null,
   "metadata": {},
   "outputs": [],
   "source": [
    "i = 0 #sayaç\n",
    "\n",
    "while i < 20:\n",
    "    print(i)\n",
    "    if i == 10:\n",
    "        break # i'nin değeri 10 olunca bu koşul sağlanıyor ve  break ifadesiyle karşılaşıldığı için döngü anında sona eriyor.\n",
    "    i +=1"
   ]
  },
  {
   "cell_type": "code",
   "execution_count": null,
   "metadata": {},
   "outputs": [],
   "source": [
    "# for döngüsüyle break kullanalım.\n",
    "liste = [1,2,3,4,5,6,7,8,9]\n",
    "for i in liste:\n",
    "    if i == 5:\n",
    "        \n",
    "        break\n",
    "    print(i)"
   ]
  },
  {
   "cell_type": "code",
   "execution_count": null,
   "metadata": {},
   "outputs": [],
   "source": [
    "while True: # Sonsuz döngü. Nasıl sonlandırabiliriz ? \n",
    "    isim = input(\"İsminiz(Çıkmak için q tuşuna basın.):\")\n",
    "    if (isim == \"q\"): # break ile tabii ki.\n",
    "        print(\"Çıkış yapılıyor...\")\n",
    "        break\n",
    "    print(isim)\n",
    "    "
   ]
  },
  {
   "cell_type": "markdown",
   "metadata": {},
   "source": [
    "### continue ifadesi\n",
    "**continue** ifadesi *break*'e göre biraz daha az kullanılan bir ifadedir.\n",
    "            \n",
    "        Döngü herhangi bir yerde ve herhangi bir zamanda continue ifadesiyle karşılaştığı zaman geri kalan işlemlerini\n",
    "        yapmadan direk kod bloğunun başına döner.\n",
    "       "
   ]
  },
  {
   "cell_type": "code",
   "execution_count": null,
   "metadata": {},
   "outputs": [],
   "source": [
    "liste = [1,2,3,4,5,6,7,8,9,10]\n",
    "\n",
    "for i in liste: # Bunu biliyoruz.\n",
    "    print(\"i:\",i)"
   ]
  },
  {
   "cell_type": "code",
   "execution_count": null,
   "metadata": {},
   "outputs": [],
   "source": [
    "liste = [1,2,3,4,5,6,7,8,9] # continue kullanalım.\n",
    "\n",
    "\n",
    "for i in liste:\n",
    "    if i == 3 or i == 5:\n",
    "        continue #xontinue ile if bloğunun koşulunu sağlayan durumları atladık \n",
    "    print(\"i:\",i)"
   ]
  },
  {
   "cell_type": "code",
   "execution_count": null,
   "metadata": {},
   "outputs": [],
   "source": [
    "### ÇALIŞTIRMADAN CEVAPLA- Neden sonsuz döngüye giriyor?\n",
    "\n",
    "i = 0 # Bu kodda Sonsuz döngü olayı neden oluşur ? Bu kodu çalıştırmayalım.\n",
    "\n",
    "# Eğer çalıştırırsak sonsuz döngüyü \"Kernel\" sekmesinde \n",
    "\n",
    "while (i < 10):\n",
    "    print(i)\n",
    "    \n",
    "    if (i == 2):\n",
    "        continue\n",
    "        \n",
    "    i += 1"
   ]
  },
  {
   "cell_type": "code",
   "execution_count": null,
   "metadata": {},
   "outputs": [],
   "source": [
    "i = 0 # Kodun sorunsuz hali\n",
    "\n",
    "while i < 10:\n",
    "    \n",
    "    if i == 2:\n",
    "        i += 1 # Artırma işlemi ile if bloğu koşulu sağlandığında...\n",
    "        continue\n",
    "        \n",
    "    print(\"i:\",i)\n",
    "    i += 1"
   ]
  },
  {
   "cell_type": "markdown",
   "metadata": {},
   "source": [
    "### BANKAMATİK Örneği"
   ]
  },
  {
   "cell_type": "code",
   "execution_count": null,
   "metadata": {},
   "outputs": [],
   "source": [
    "print(\"********************\\nATM sistemine hoşgeldiniz\\n********************\")\n",
    "\n",
    "print(\"\"\"\n",
    "İşlemler:\n",
    "\n",
    "1. Bakiye Sorgulama\n",
    "2. Para Yatırma\n",
    "3. Para Çekme\n",
    "\n",
    "Programdan 'q' tuşu ile çıkabilirsiniz.\n",
    "\n",
    "\"\"\")\n",
    "\n",
    "bakiye  = 1000 # Bakiyemiz 1000 lira olsun.\n",
    "\n",
    "while True:\n",
    "    işlem = input(\"İşlemi giriniz:\")\n",
    "\n",
    "    if işlem == \"q\":\n",
    "        print(\"Yine bekleriz....\")\n",
    "        break\n",
    "    elif işlem == \"1\":\n",
    "        print(\"Bakiyeniz {} tldir\".format(bakiye))\n",
    "    elif işlem == \"2\":\n",
    "        miktar = int(input(\"Yatırmak istediğiniz tutar:\"))\n",
    "\n",
    "        bakiye += miktar\n",
    "    elif işlem == \"3\":\n",
    "        miktar = int(input(\"Çekmek istediğiniz tutar:\"))\n",
    "        if bakiye - miktar < 0 :\n",
    "            print(\"Bu kadar para çekemezsiniz...\")\n",
    "            print(\"Bakiyeniz {} tldir\".format(bakiye))\n",
    "            continue\n",
    "        bakiye -= miktar\n",
    "\n",
    "    else:\n",
    "        print(\"Lütfen geçerli bir işlem giriniz.\")"
   ]
  },
  {
   "cell_type": "markdown",
   "metadata": {},
   "source": [
    "### Faktöriyel Örneği"
   ]
  },
  {
   "cell_type": "code",
   "execution_count": null,
   "metadata": {},
   "outputs": [],
   "source": [
    "print(\"\"\"*******************\n",
    "Faktoriyel Bulma Programı\n",
    "\n",
    "Programdan çıkmak için 'ç' ya basın.\n",
    "*******************\"\"\")\n",
    "while True:\n",
    "    sayi =  input(\"Sayı:\")\n",
    "    if (sayi == \"ç\"):\n",
    "        print(\"Programdan çıkıldı\")\n",
    "        break\n",
    "    sayi = int(sayi)\n",
    "\n",
    "    faktoriyel = 1\n",
    "    for i in range(1,sayi+1):\n",
    "        faktoriyel *= i\n",
    "\n",
    "    print(\"Faktoriyel:\",faktoriyel)\n",
    "    print(*range(2,sayi+1))\n",
    "\n"
   ]
  },
  {
   "cell_type": "code",
   "execution_count": null,
   "metadata": {},
   "outputs": [],
   "source": [
    "\"\"\"\n",
    "Fibonacci Serisi yeni bir sayıyı önceki iki sayının toplamı şeklinde oluşturur.\n",
    "\n",
    "1,1,2,3,5,8,13,21,34...............\n",
    "\"\"\"\n",
    "ilk_sayı = 1\n",
    "\n",
    "ikincisayi = 1\n",
    "\n",
    "fibonacci = [ilk_sayı,ikincisayi]\n",
    "for i in range(20):\n",
    "\n",
    "\n",
    "    ilk_sayı,ikincisayi = ikincisayi,ilk_sayı + ikincisayi\n",
    "\n",
    "    fibonacci.append(ikincisayi)\n",
    "\n",
    "print(fibonacci)"
   ]
  },
  {
   "cell_type": "markdown",
   "metadata": {},
   "source": [
    "### Problem 1\n",
    "\n",
    "Kullanıcıdan aldığınız bir sayının mükemmel olup olmadığını bulmaya çalışın.\n",
    "\n",
    "\n",
    "*Bir sayının kendi hariç bölenlerinin toplamı kendine eşitse bu sayıya \"mükemmel sayı\" denir. Örnek olarak, 6 mükemmel bir sayıdır. (1 + 2 + 3 = 6)*"
   ]
  },
  {
   "cell_type": "code",
   "execution_count": null,
   "metadata": {},
   "outputs": [],
   "source": [
    "sayı = int(input(\"Sayı:\"))\n",
    "\n",
    "i = 1\n",
    "toplam = 0\n",
    "while i < sayı:\n",
    "    if sayı % i == 0:\n",
    "        toplam += i\n",
    "    i += 1\n",
    "\n",
    "if toplam == sayı:\n",
    "    print(sayı,\"mükemmel bir sayıdır.\")\n",
    "else:\n",
    "    print(sayı,\"mükemmel bir sayı değildir.\")"
   ]
  },
  {
   "cell_type": "markdown",
   "metadata": {},
   "source": [
    "### Problem 2\n",
    "\n",
    "1'den 10'kadar olan sayılarla ekrana çarpım tablosu bastırmaya çalışın.\n",
    "\n",
    "***İpucu: İç içe 2 tane for döngüsü kullanın. Aynı zamanda sayıları range() fonksiyonunu kullanarak elde edin.***"
   ]
  },
  {
   "cell_type": "code",
   "execution_count": null,
   "metadata": {},
   "outputs": [],
   "source": [
    "for i in range(1,11):\n",
    "    print(\"*************************************************\")\n",
    "    for j in range(1,11):\n",
    "        \n",
    "        print(\"{} x {} = {}\".format(i,j,i*j))"
   ]
  },
  {
   "cell_type": "markdown",
   "metadata": {},
   "source": [
    "### Problem 3\n",
    "\n",
    "1'den 100'e kadar olan sayılardan sadece 3'e bölünen sayıları ekrana bastırın. Bu işlemi ***continue*** ile yapmaya çalışın."
   ]
  },
  {
   "cell_type": "code",
   "execution_count": null,
   "metadata": {},
   "outputs": [],
   "source": [
    "for i in range(1,101):\n",
    "    if (i % 3 != 0):\n",
    "        continue\n",
    "    print(i)"
   ]
  }
 ],
 "metadata": {
  "kernelspec": {
   "display_name": "Python 3 (ipykernel)",
   "language": "python",
   "name": "python3"
  },
  "language_info": {
   "codemirror_mode": {
    "name": "ipython",
    "version": 3
   },
   "file_extension": ".py",
   "mimetype": "text/x-python",
   "name": "python",
   "nbconvert_exporter": "python",
   "pygments_lexer": "ipython3",
   "version": "3.8.11"
  }
 },
 "nbformat": 4,
 "nbformat_minor": 2
}
